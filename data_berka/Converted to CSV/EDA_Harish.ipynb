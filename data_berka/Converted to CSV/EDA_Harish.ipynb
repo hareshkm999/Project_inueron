{
 "cells": [
  {
   "cell_type": "code",
   "execution_count": 1,
   "id": "412e9ff7",
   "metadata": {},
   "outputs": [],
   "source": [
    "import pandas as pd\n",
    "import numpy as np\n",
    "import matplotlib.pyplot as plt\n",
    "import seaborn as sns"
   ]
  },
  {
   "cell_type": "code",
   "execution_count": 2,
   "id": "1ed21ca5",
   "metadata": {},
   "outputs": [
    {
     "name": "stderr",
     "output_type": "stream",
     "text": [
      "C:\\ProgramData\\Anaconda3\\lib\\site-packages\\IPython\\core\\interactiveshell.py:3165: DtypeWarning: Columns (8) have mixed types.Specify dtype option on import or set low_memory=False.\n",
      "  has_raised = await self.run_ast_nodes(code_ast.body, cell_name,\n"
     ]
    }
   ],
   "source": [
    "df_account = pd.read_csv('account.csv')\n",
    "df_card = pd.read_csv(\"card.csv\")\n",
    "df_client = pd.read_csv(\"client.csv\")\n",
    "df_disp = pd.read_csv(\"disp.csv\")\n",
    "df_district = pd.read_csv(\"district.csv\")\n",
    "df_loan = pd.read_csv(\"loan.csv\")\n",
    "df_order = pd.read_csv(\"order.csv\")\n",
    "df_trans = pd.read_csv(\"trans.csv\", sep=';')"
   ]
  },
  {
   "cell_type": "code",
   "execution_count": 3,
   "id": "25fa44f3",
   "metadata": {},
   "outputs": [],
   "source": [
    "def head_df(df):\n",
    "    return df.head()"
   ]
  },
  {
   "cell_type": "code",
   "execution_count": 4,
   "id": "464cd5f5",
   "metadata": {},
   "outputs": [],
   "source": [
    "df = [df_account, df_card, df_client, df_disp, df_district, df_loan, df_order, df_trans]"
   ]
  },
  {
   "cell_type": "code",
   "execution_count": 5,
   "id": "6b8b5a0a",
   "metadata": {},
   "outputs": [
    {
     "name": "stdout",
     "output_type": "stream",
     "text": [
      "   account_id  district_id         frequency    date\n",
      "0         576           55  POPLATEK MESICNE  930101\n",
      "1        3818           74  POPLATEK MESICNE  930101\n",
      "2         704           55  POPLATEK MESICNE  930101\n",
      "3        2378           16  POPLATEK MESICNE  930101\n",
      "4        2632           24  POPLATEK MESICNE  930102\n",
      "   card_id  disp_id     type           issued\n",
      "0     1005     9285  classic  931107 00:00:00\n",
      "1      104      588  classic  940119 00:00:00\n",
      "2      747     4915  classic  940205 00:00:00\n",
      "3       70      439  classic  940208 00:00:00\n",
      "4      577     3687  classic  940215 00:00:00\n",
      "   client_id  birth_number  district_id\n",
      "0          1        706213           18\n",
      "1          2        450204            1\n",
      "2          3        406009            1\n",
      "3          4        561201            5\n",
      "4          5        605703            5\n",
      "   disp_id  client_id  account_id       type\n",
      "0        1          1           1      OWNER\n",
      "1        2          2           2      OWNER\n",
      "2        3          3           2  DISPONENT\n",
      "3        4          4           3      OWNER\n",
      "4        5          5           3  DISPONENT\n",
      "   A1           A2               A3       A4  A5  A6  A7  A8  A9    A10  \\\n",
      "0   1  Hl.m. Praha           Prague  1204953   0   0   0   1   1  100.0   \n",
      "1   2      Benesov  central Bohemia    88884  80  26   6   2   5   46.7   \n",
      "2   3       Beroun  central Bohemia    75232  55  26   4   1   5   41.7   \n",
      "3   4       Kladno  central Bohemia   149893  63  29   6   2   6   67.4   \n",
      "4   5        Kolin  central Bohemia    95616  65  30   4   1   6   51.4   \n",
      "\n",
      "     A11   A12   A13  A14    A15    A16  \n",
      "0  12541  0.29  0.43  167  85677  99107  \n",
      "1   8507  1.67  1.85  132   2159   2674  \n",
      "2   8980  1.95  2.21  111   2824   2813  \n",
      "3   9753  4.64  5.05  109   5244   5892  \n",
      "4   9307  3.85  4.43  118   2616   3040  \n",
      "   loan_id  account_id    date  amount  duration  payments status\n",
      "0     5314        1787  930705   96396        12      8033      B\n",
      "1     5316        1801  930711  165960        36      4610      A\n",
      "2     6863        9188  930728  127080        60      2118      A\n",
      "3     5325        1843  930803  105804        36      2939      A\n",
      "4     7240       11013  930906  274740        60      4579      A\n",
      "   order_id  account_id bank_to  account_to  amount k_symbol\n",
      "0     29401           1      YZ    87144583  2452.0     SIPO\n",
      "1     29402           2      ST    89597016  3372.7     UVER\n",
      "2     29403           2      QR    13943797  7266.0     SIPO\n",
      "3     29404           3      WX    83084338  1135.0     SIPO\n",
      "4     29405           3      CD    24485939   327.0         \n",
      "   trans_id  account_id    date    type operation  amount  balance k_symbol  \\\n",
      "0    695247        2378  930101  PRIJEM     VKLAD   700.0    700.0      NaN   \n",
      "1    171812         576  930101  PRIJEM     VKLAD   900.0    900.0      NaN   \n",
      "2    207264         704  930101  PRIJEM     VKLAD  1000.0   1000.0      NaN   \n",
      "3   1117247        3818  930101  PRIJEM     VKLAD   600.0    600.0      NaN   \n",
      "4    579373        1972  930102  PRIJEM     VKLAD   400.0    400.0      NaN   \n",
      "\n",
      "  bank  account  \n",
      "0  NaN      NaN  \n",
      "1  NaN      NaN  \n",
      "2  NaN      NaN  \n",
      "3  NaN      NaN  \n",
      "4  NaN      NaN  \n"
     ]
    }
   ],
   "source": [
    "for i in df:\n",
    "    print(head_df(i))"
   ]
  },
  {
   "cell_type": "code",
   "execution_count": 6,
   "id": "5e7448e7",
   "metadata": {},
   "outputs": [],
   "source": [
    "#defining function for dataframe information\n",
    "\n",
    "def data_info(df):\n",
    "    print(\"Intial information of Data \")\n",
    "    return df.info()"
   ]
  },
  {
   "cell_type": "code",
   "execution_count": 7,
   "id": "25538aef",
   "metadata": {},
   "outputs": [
    {
     "name": "stdout",
     "output_type": "stream",
     "text": [
      "Intial information of Data \n",
      "<class 'pandas.core.frame.DataFrame'>\n",
      "RangeIndex: 4500 entries, 0 to 4499\n",
      "Data columns (total 4 columns):\n",
      " #   Column       Non-Null Count  Dtype \n",
      "---  ------       --------------  ----- \n",
      " 0   account_id   4500 non-null   int64 \n",
      " 1   district_id  4500 non-null   int64 \n",
      " 2   frequency    4500 non-null   object\n",
      " 3   date         4500 non-null   int64 \n",
      "dtypes: int64(3), object(1)\n",
      "memory usage: 140.8+ KB\n"
     ]
    }
   ],
   "source": [
    "data_info(df_account)"
   ]
  },
  {
   "cell_type": "code",
   "execution_count": 8,
   "id": "9cc3e488",
   "metadata": {},
   "outputs": [
    {
     "name": "stdout",
     "output_type": "stream",
     "text": [
      "Intial information of Data \n",
      "<class 'pandas.core.frame.DataFrame'>\n",
      "RangeIndex: 892 entries, 0 to 891\n",
      "Data columns (total 4 columns):\n",
      " #   Column   Non-Null Count  Dtype \n",
      "---  ------   --------------  ----- \n",
      " 0   card_id  892 non-null    int64 \n",
      " 1   disp_id  892 non-null    int64 \n",
      " 2   type     892 non-null    object\n",
      " 3   issued   892 non-null    object\n",
      "dtypes: int64(2), object(2)\n",
      "memory usage: 28.0+ KB\n"
     ]
    }
   ],
   "source": [
    "data_info(df_card)"
   ]
  },
  {
   "cell_type": "code",
   "execution_count": 9,
   "id": "6a9e7199",
   "metadata": {},
   "outputs": [
    {
     "name": "stdout",
     "output_type": "stream",
     "text": [
      "Intial information of Data \n",
      "<class 'pandas.core.frame.DataFrame'>\n",
      "RangeIndex: 5369 entries, 0 to 5368\n",
      "Data columns (total 3 columns):\n",
      " #   Column        Non-Null Count  Dtype\n",
      "---  ------        --------------  -----\n",
      " 0   client_id     5369 non-null   int64\n",
      " 1   birth_number  5369 non-null   int64\n",
      " 2   district_id   5369 non-null   int64\n",
      "dtypes: int64(3)\n",
      "memory usage: 126.0 KB\n"
     ]
    }
   ],
   "source": [
    "data_info(df_client)"
   ]
  },
  {
   "cell_type": "code",
   "execution_count": 10,
   "id": "51ec8ae3",
   "metadata": {},
   "outputs": [
    {
     "name": "stdout",
     "output_type": "stream",
     "text": [
      "Intial information of Data \n",
      "<class 'pandas.core.frame.DataFrame'>\n",
      "RangeIndex: 5369 entries, 0 to 5368\n",
      "Data columns (total 4 columns):\n",
      " #   Column      Non-Null Count  Dtype \n",
      "---  ------      --------------  ----- \n",
      " 0   disp_id     5369 non-null   int64 \n",
      " 1   client_id   5369 non-null   int64 \n",
      " 2   account_id  5369 non-null   int64 \n",
      " 3   type        5369 non-null   object\n",
      "dtypes: int64(3), object(1)\n",
      "memory usage: 167.9+ KB\n"
     ]
    }
   ],
   "source": [
    "data_info(df_disp)"
   ]
  },
  {
   "cell_type": "code",
   "execution_count": 11,
   "id": "9c80792f",
   "metadata": {},
   "outputs": [
    {
     "name": "stdout",
     "output_type": "stream",
     "text": [
      "Intial information of Data \n",
      "<class 'pandas.core.frame.DataFrame'>\n",
      "RangeIndex: 77 entries, 0 to 76\n",
      "Data columns (total 16 columns):\n",
      " #   Column  Non-Null Count  Dtype  \n",
      "---  ------  --------------  -----  \n",
      " 0   A1      77 non-null     int64  \n",
      " 1   A2      77 non-null     object \n",
      " 2   A3      77 non-null     object \n",
      " 3   A4      77 non-null     int64  \n",
      " 4   A5      77 non-null     int64  \n",
      " 5   A6      77 non-null     int64  \n",
      " 6   A7      77 non-null     int64  \n",
      " 7   A8      77 non-null     int64  \n",
      " 8   A9      77 non-null     int64  \n",
      " 9   A10     77 non-null     float64\n",
      " 10  A11     77 non-null     int64  \n",
      " 11  A12     77 non-null     object \n",
      " 12  A13     77 non-null     float64\n",
      " 13  A14     77 non-null     int64  \n",
      " 14  A15     77 non-null     object \n",
      " 15  A16     77 non-null     int64  \n",
      "dtypes: float64(2), int64(10), object(4)\n",
      "memory usage: 9.8+ KB\n"
     ]
    }
   ],
   "source": [
    "data_info(df_district)"
   ]
  },
  {
   "cell_type": "code",
   "execution_count": 12,
   "id": "ed56b87b",
   "metadata": {},
   "outputs": [
    {
     "ename": "NameError",
     "evalue": "name 'df_load' is not defined",
     "output_type": "error",
     "traceback": [
      "\u001b[1;31m---------------------------------------------------------------------------\u001b[0m",
      "\u001b[1;31mNameError\u001b[0m                                 Traceback (most recent call last)",
      "\u001b[1;32m<ipython-input-12-7267ec407a6b>\u001b[0m in \u001b[0;36m<module>\u001b[1;34m\u001b[0m\n\u001b[1;32m----> 1\u001b[1;33m \u001b[0mdata_info\u001b[0m\u001b[1;33m(\u001b[0m\u001b[0mdf_load\u001b[0m\u001b[1;33m)\u001b[0m\u001b[1;33m\u001b[0m\u001b[1;33m\u001b[0m\u001b[0m\n\u001b[0m",
      "\u001b[1;31mNameError\u001b[0m: name 'df_load' is not defined"
     ]
    }
   ],
   "source": [
    "data_info(df_load)"
   ]
  },
  {
   "cell_type": "code",
   "execution_count": 16,
   "id": "b528467b",
   "metadata": {},
   "outputs": [
    {
     "name": "stdout",
     "output_type": "stream",
     "text": [
      "Intial information of Data \n",
      "<class 'pandas.core.frame.DataFrame'>\n",
      "RangeIndex: 6471 entries, 0 to 6470\n",
      "Data columns (total 6 columns):\n",
      " #   Column      Non-Null Count  Dtype  \n",
      "---  ------      --------------  -----  \n",
      " 0   order_id    6471 non-null   int64  \n",
      " 1   account_id  6471 non-null   int64  \n",
      " 2   bank_to     6471 non-null   object \n",
      " 3   account_to  6471 non-null   int64  \n",
      " 4   amount      6471 non-null   float64\n",
      " 5   k_symbol    6471 non-null   object \n",
      "dtypes: float64(1), int64(3), object(2)\n",
      "memory usage: 303.5+ KB\n"
     ]
    }
   ],
   "source": [
    "data_info(df_order)"
   ]
  },
  {
   "cell_type": "code",
   "execution_count": 17,
   "id": "adc96304",
   "metadata": {},
   "outputs": [
    {
     "name": "stdout",
     "output_type": "stream",
     "text": [
      "Intial information of Data \n",
      "<class 'pandas.core.frame.DataFrame'>\n",
      "RangeIndex: 1056320 entries, 0 to 1056319\n",
      "Data columns (total 10 columns):\n",
      " #   Column      Non-Null Count    Dtype  \n",
      "---  ------      --------------    -----  \n",
      " 0   trans_id    1056320 non-null  int64  \n",
      " 1   account_id  1056320 non-null  int64  \n",
      " 2   date        1056320 non-null  int64  \n",
      " 3   type        1056320 non-null  object \n",
      " 4   operation   873206 non-null   object \n",
      " 5   amount      1056320 non-null  float64\n",
      " 6   balance     1056320 non-null  float64\n",
      " 7   k_symbol    574439 non-null   object \n",
      " 8   bank        273508 non-null   object \n",
      " 9   account     295389 non-null   float64\n",
      "dtypes: float64(3), int64(3), object(4)\n",
      "memory usage: 80.6+ MB\n"
     ]
    }
   ],
   "source": [
    "data_info(df_trans)"
   ]
  },
  {
   "cell_type": "code",
   "execution_count": 18,
   "id": "30028fa6",
   "metadata": {},
   "outputs": [],
   "source": [
    "# function for getting description of data\n",
    "def data_describe(dataframe):\n",
    "    print(\"Data Description\")\n",
    "    return dataframe.describe()"
   ]
  },
  {
   "cell_type": "code",
   "execution_count": 19,
   "id": "04c91b49",
   "metadata": {},
   "outputs": [],
   "source": [
    "#dataframes = ['df_card', 'df_client', 'df_disp', 'df_district', 'df_load', 'df_order', 'df_trans']"
   ]
  },
  {
   "cell_type": "code",
   "execution_count": 20,
   "id": "85bea561",
   "metadata": {},
   "outputs": [
    {
     "name": "stdout",
     "output_type": "stream",
     "text": [
      "Data Description\n"
     ]
    },
    {
     "data": {
      "text/html": [
       "<div>\n",
       "<style scoped>\n",
       "    .dataframe tbody tr th:only-of-type {\n",
       "        vertical-align: middle;\n",
       "    }\n",
       "\n",
       "    .dataframe tbody tr th {\n",
       "        vertical-align: top;\n",
       "    }\n",
       "\n",
       "    .dataframe thead th {\n",
       "        text-align: right;\n",
       "    }\n",
       "</style>\n",
       "<table border=\"1\" class=\"dataframe\">\n",
       "  <thead>\n",
       "    <tr style=\"text-align: right;\">\n",
       "      <th></th>\n",
       "      <th>card_id</th>\n",
       "      <th>disp_id</th>\n",
       "    </tr>\n",
       "  </thead>\n",
       "  <tbody>\n",
       "    <tr>\n",
       "      <th>count</th>\n",
       "      <td>892.000000</td>\n",
       "      <td>892.000000</td>\n",
       "    </tr>\n",
       "    <tr>\n",
       "      <th>mean</th>\n",
       "      <td>480.855381</td>\n",
       "      <td>3511.862108</td>\n",
       "    </tr>\n",
       "    <tr>\n",
       "      <th>std</th>\n",
       "      <td>306.933982</td>\n",
       "      <td>2984.373626</td>\n",
       "    </tr>\n",
       "    <tr>\n",
       "      <th>min</th>\n",
       "      <td>1.000000</td>\n",
       "      <td>9.000000</td>\n",
       "    </tr>\n",
       "    <tr>\n",
       "      <th>25%</th>\n",
       "      <td>229.750000</td>\n",
       "      <td>1387.000000</td>\n",
       "    </tr>\n",
       "    <tr>\n",
       "      <th>50%</th>\n",
       "      <td>456.500000</td>\n",
       "      <td>2938.500000</td>\n",
       "    </tr>\n",
       "    <tr>\n",
       "      <th>75%</th>\n",
       "      <td>684.250000</td>\n",
       "      <td>4459.500000</td>\n",
       "    </tr>\n",
       "    <tr>\n",
       "      <th>max</th>\n",
       "      <td>1247.000000</td>\n",
       "      <td>13660.000000</td>\n",
       "    </tr>\n",
       "  </tbody>\n",
       "</table>\n",
       "</div>"
      ],
      "text/plain": [
       "           card_id       disp_id\n",
       "count   892.000000    892.000000\n",
       "mean    480.855381   3511.862108\n",
       "std     306.933982   2984.373626\n",
       "min       1.000000      9.000000\n",
       "25%     229.750000   1387.000000\n",
       "50%     456.500000   2938.500000\n",
       "75%     684.250000   4459.500000\n",
       "max    1247.000000  13660.000000"
      ]
     },
     "execution_count": 20,
     "metadata": {},
     "output_type": "execute_result"
    }
   ],
   "source": [
    "data_describe(df_card)"
   ]
  },
  {
   "cell_type": "code",
   "execution_count": 21,
   "id": "5c0157d2",
   "metadata": {},
   "outputs": [
    {
     "name": "stdout",
     "output_type": "stream",
     "text": [
      "Data Description\n"
     ]
    },
    {
     "data": {
      "text/html": [
       "<div>\n",
       "<style scoped>\n",
       "    .dataframe tbody tr th:only-of-type {\n",
       "        vertical-align: middle;\n",
       "    }\n",
       "\n",
       "    .dataframe tbody tr th {\n",
       "        vertical-align: top;\n",
       "    }\n",
       "\n",
       "    .dataframe thead th {\n",
       "        text-align: right;\n",
       "    }\n",
       "</style>\n",
       "<table border=\"1\" class=\"dataframe\">\n",
       "  <thead>\n",
       "    <tr style=\"text-align: right;\">\n",
       "      <th></th>\n",
       "      <th>client_id</th>\n",
       "      <th>birth_number</th>\n",
       "      <th>district_id</th>\n",
       "    </tr>\n",
       "  </thead>\n",
       "  <tbody>\n",
       "    <tr>\n",
       "      <th>count</th>\n",
       "      <td>5369.000000</td>\n",
       "      <td>5369.000000</td>\n",
       "      <td>5369.000000</td>\n",
       "    </tr>\n",
       "    <tr>\n",
       "      <th>mean</th>\n",
       "      <td>3359.011920</td>\n",
       "      <td>535114.970013</td>\n",
       "      <td>37.310114</td>\n",
       "    </tr>\n",
       "    <tr>\n",
       "      <th>std</th>\n",
       "      <td>2832.911984</td>\n",
       "      <td>172895.618429</td>\n",
       "      <td>25.043690</td>\n",
       "    </tr>\n",
       "    <tr>\n",
       "      <th>min</th>\n",
       "      <td>1.000000</td>\n",
       "      <td>110820.000000</td>\n",
       "      <td>1.000000</td>\n",
       "    </tr>\n",
       "    <tr>\n",
       "      <th>25%</th>\n",
       "      <td>1418.000000</td>\n",
       "      <td>406009.000000</td>\n",
       "      <td>14.000000</td>\n",
       "    </tr>\n",
       "    <tr>\n",
       "      <th>50%</th>\n",
       "      <td>2839.000000</td>\n",
       "      <td>540829.000000</td>\n",
       "      <td>38.000000</td>\n",
       "    </tr>\n",
       "    <tr>\n",
       "      <th>75%</th>\n",
       "      <td>4257.000000</td>\n",
       "      <td>681013.000000</td>\n",
       "      <td>60.000000</td>\n",
       "    </tr>\n",
       "    <tr>\n",
       "      <th>max</th>\n",
       "      <td>13998.000000</td>\n",
       "      <td>875927.000000</td>\n",
       "      <td>77.000000</td>\n",
       "    </tr>\n",
       "  </tbody>\n",
       "</table>\n",
       "</div>"
      ],
      "text/plain": [
       "          client_id   birth_number  district_id\n",
       "count   5369.000000    5369.000000  5369.000000\n",
       "mean    3359.011920  535114.970013    37.310114\n",
       "std     2832.911984  172895.618429    25.043690\n",
       "min        1.000000  110820.000000     1.000000\n",
       "25%     1418.000000  406009.000000    14.000000\n",
       "50%     2839.000000  540829.000000    38.000000\n",
       "75%     4257.000000  681013.000000    60.000000\n",
       "max    13998.000000  875927.000000    77.000000"
      ]
     },
     "execution_count": 21,
     "metadata": {},
     "output_type": "execute_result"
    }
   ],
   "source": [
    "data_describe(df_client)"
   ]
  },
  {
   "cell_type": "code",
   "execution_count": 22,
   "id": "db2f90ff",
   "metadata": {},
   "outputs": [
    {
     "name": "stdout",
     "output_type": "stream",
     "text": [
      "Data Description\n"
     ]
    },
    {
     "data": {
      "text/html": [
       "<div>\n",
       "<style scoped>\n",
       "    .dataframe tbody tr th:only-of-type {\n",
       "        vertical-align: middle;\n",
       "    }\n",
       "\n",
       "    .dataframe tbody tr th {\n",
       "        vertical-align: top;\n",
       "    }\n",
       "\n",
       "    .dataframe thead th {\n",
       "        text-align: right;\n",
       "    }\n",
       "</style>\n",
       "<table border=\"1\" class=\"dataframe\">\n",
       "  <thead>\n",
       "    <tr style=\"text-align: right;\">\n",
       "      <th></th>\n",
       "      <th>disp_id</th>\n",
       "      <th>client_id</th>\n",
       "      <th>account_id</th>\n",
       "    </tr>\n",
       "  </thead>\n",
       "  <tbody>\n",
       "    <tr>\n",
       "      <th>count</th>\n",
       "      <td>5369.000000</td>\n",
       "      <td>5369.000000</td>\n",
       "      <td>5369.000000</td>\n",
       "    </tr>\n",
       "    <tr>\n",
       "      <th>mean</th>\n",
       "      <td>3337.097970</td>\n",
       "      <td>3359.011920</td>\n",
       "      <td>2767.496927</td>\n",
       "    </tr>\n",
       "    <tr>\n",
       "      <th>std</th>\n",
       "      <td>2770.418826</td>\n",
       "      <td>2832.911984</td>\n",
       "      <td>2307.843630</td>\n",
       "    </tr>\n",
       "    <tr>\n",
       "      <th>min</th>\n",
       "      <td>1.000000</td>\n",
       "      <td>1.000000</td>\n",
       "      <td>1.000000</td>\n",
       "    </tr>\n",
       "    <tr>\n",
       "      <th>25%</th>\n",
       "      <td>1418.000000</td>\n",
       "      <td>1418.000000</td>\n",
       "      <td>1178.000000</td>\n",
       "    </tr>\n",
       "    <tr>\n",
       "      <th>50%</th>\n",
       "      <td>2839.000000</td>\n",
       "      <td>2839.000000</td>\n",
       "      <td>2349.000000</td>\n",
       "    </tr>\n",
       "    <tr>\n",
       "      <th>75%</th>\n",
       "      <td>4257.000000</td>\n",
       "      <td>4257.000000</td>\n",
       "      <td>3526.000000</td>\n",
       "    </tr>\n",
       "    <tr>\n",
       "      <th>max</th>\n",
       "      <td>13690.000000</td>\n",
       "      <td>13998.000000</td>\n",
       "      <td>11382.000000</td>\n",
       "    </tr>\n",
       "  </tbody>\n",
       "</table>\n",
       "</div>"
      ],
      "text/plain": [
       "            disp_id     client_id    account_id\n",
       "count   5369.000000   5369.000000   5369.000000\n",
       "mean    3337.097970   3359.011920   2767.496927\n",
       "std     2770.418826   2832.911984   2307.843630\n",
       "min        1.000000      1.000000      1.000000\n",
       "25%     1418.000000   1418.000000   1178.000000\n",
       "50%     2839.000000   2839.000000   2349.000000\n",
       "75%     4257.000000   4257.000000   3526.000000\n",
       "max    13690.000000  13998.000000  11382.000000"
      ]
     },
     "execution_count": 22,
     "metadata": {},
     "output_type": "execute_result"
    }
   ],
   "source": [
    "data_describe(df_disp)"
   ]
  },
  {
   "cell_type": "code",
   "execution_count": 23,
   "id": "ca1ec26a",
   "metadata": {},
   "outputs": [
    {
     "name": "stdout",
     "output_type": "stream",
     "text": [
      "Data Description\n"
     ]
    },
    {
     "data": {
      "text/html": [
       "<div>\n",
       "<style scoped>\n",
       "    .dataframe tbody tr th:only-of-type {\n",
       "        vertical-align: middle;\n",
       "    }\n",
       "\n",
       "    .dataframe tbody tr th {\n",
       "        vertical-align: top;\n",
       "    }\n",
       "\n",
       "    .dataframe thead th {\n",
       "        text-align: right;\n",
       "    }\n",
       "</style>\n",
       "<table border=\"1\" class=\"dataframe\">\n",
       "  <thead>\n",
       "    <tr style=\"text-align: right;\">\n",
       "      <th></th>\n",
       "      <th>A1</th>\n",
       "      <th>A4</th>\n",
       "      <th>A5</th>\n",
       "      <th>A6</th>\n",
       "      <th>A7</th>\n",
       "      <th>A8</th>\n",
       "      <th>A9</th>\n",
       "      <th>A10</th>\n",
       "      <th>A11</th>\n",
       "      <th>A13</th>\n",
       "      <th>A14</th>\n",
       "      <th>A16</th>\n",
       "    </tr>\n",
       "  </thead>\n",
       "  <tbody>\n",
       "    <tr>\n",
       "      <th>count</th>\n",
       "      <td>77.000000</td>\n",
       "      <td>7.700000e+01</td>\n",
       "      <td>77.000000</td>\n",
       "      <td>77.000000</td>\n",
       "      <td>77.000000</td>\n",
       "      <td>77.000000</td>\n",
       "      <td>77.000000</td>\n",
       "      <td>77.000000</td>\n",
       "      <td>77.000000</td>\n",
       "      <td>77.000000</td>\n",
       "      <td>77.000000</td>\n",
       "      <td>77.000000</td>\n",
       "    </tr>\n",
       "    <tr>\n",
       "      <th>mean</th>\n",
       "      <td>39.000000</td>\n",
       "      <td>1.338849e+05</td>\n",
       "      <td>48.623377</td>\n",
       "      <td>24.324675</td>\n",
       "      <td>6.272727</td>\n",
       "      <td>1.727273</td>\n",
       "      <td>6.259740</td>\n",
       "      <td>63.035065</td>\n",
       "      <td>9031.675325</td>\n",
       "      <td>3.787013</td>\n",
       "      <td>116.129870</td>\n",
       "      <td>5030.831169</td>\n",
       "    </tr>\n",
       "    <tr>\n",
       "      <th>std</th>\n",
       "      <td>22.371857</td>\n",
       "      <td>1.369135e+05</td>\n",
       "      <td>32.741829</td>\n",
       "      <td>12.780991</td>\n",
       "      <td>4.015222</td>\n",
       "      <td>1.008338</td>\n",
       "      <td>2.435497</td>\n",
       "      <td>16.221727</td>\n",
       "      <td>790.202347</td>\n",
       "      <td>1.908480</td>\n",
       "      <td>16.608773</td>\n",
       "      <td>11270.796786</td>\n",
       "    </tr>\n",
       "    <tr>\n",
       "      <th>min</th>\n",
       "      <td>1.000000</td>\n",
       "      <td>4.282100e+04</td>\n",
       "      <td>0.000000</td>\n",
       "      <td>0.000000</td>\n",
       "      <td>0.000000</td>\n",
       "      <td>0.000000</td>\n",
       "      <td>1.000000</td>\n",
       "      <td>33.900000</td>\n",
       "      <td>8110.000000</td>\n",
       "      <td>0.430000</td>\n",
       "      <td>81.000000</td>\n",
       "      <td>888.000000</td>\n",
       "    </tr>\n",
       "    <tr>\n",
       "      <th>25%</th>\n",
       "      <td>20.000000</td>\n",
       "      <td>8.585200e+04</td>\n",
       "      <td>22.000000</td>\n",
       "      <td>16.000000</td>\n",
       "      <td>4.000000</td>\n",
       "      <td>1.000000</td>\n",
       "      <td>5.000000</td>\n",
       "      <td>51.900000</td>\n",
       "      <td>8512.000000</td>\n",
       "      <td>2.310000</td>\n",
       "      <td>105.000000</td>\n",
       "      <td>2122.000000</td>\n",
       "    </tr>\n",
       "    <tr>\n",
       "      <th>50%</th>\n",
       "      <td>39.000000</td>\n",
       "      <td>1.088710e+05</td>\n",
       "      <td>49.000000</td>\n",
       "      <td>25.000000</td>\n",
       "      <td>6.000000</td>\n",
       "      <td>2.000000</td>\n",
       "      <td>6.000000</td>\n",
       "      <td>59.800000</td>\n",
       "      <td>8814.000000</td>\n",
       "      <td>3.600000</td>\n",
       "      <td>113.000000</td>\n",
       "      <td>3040.000000</td>\n",
       "    </tr>\n",
       "    <tr>\n",
       "      <th>75%</th>\n",
       "      <td>58.000000</td>\n",
       "      <td>1.390120e+05</td>\n",
       "      <td>71.000000</td>\n",
       "      <td>32.000000</td>\n",
       "      <td>8.000000</td>\n",
       "      <td>2.000000</td>\n",
       "      <td>8.000000</td>\n",
       "      <td>73.500000</td>\n",
       "      <td>9317.000000</td>\n",
       "      <td>4.790000</td>\n",
       "      <td>126.000000</td>\n",
       "      <td>4595.000000</td>\n",
       "    </tr>\n",
       "    <tr>\n",
       "      <th>max</th>\n",
       "      <td>77.000000</td>\n",
       "      <td>1.204953e+06</td>\n",
       "      <td>151.000000</td>\n",
       "      <td>70.000000</td>\n",
       "      <td>20.000000</td>\n",
       "      <td>5.000000</td>\n",
       "      <td>11.000000</td>\n",
       "      <td>100.000000</td>\n",
       "      <td>12541.000000</td>\n",
       "      <td>9.400000</td>\n",
       "      <td>167.000000</td>\n",
       "      <td>99107.000000</td>\n",
       "    </tr>\n",
       "  </tbody>\n",
       "</table>\n",
       "</div>"
      ],
      "text/plain": [
       "              A1            A4          A5         A6         A7         A8  \\\n",
       "count  77.000000  7.700000e+01   77.000000  77.000000  77.000000  77.000000   \n",
       "mean   39.000000  1.338849e+05   48.623377  24.324675   6.272727   1.727273   \n",
       "std    22.371857  1.369135e+05   32.741829  12.780991   4.015222   1.008338   \n",
       "min     1.000000  4.282100e+04    0.000000   0.000000   0.000000   0.000000   \n",
       "25%    20.000000  8.585200e+04   22.000000  16.000000   4.000000   1.000000   \n",
       "50%    39.000000  1.088710e+05   49.000000  25.000000   6.000000   2.000000   \n",
       "75%    58.000000  1.390120e+05   71.000000  32.000000   8.000000   2.000000   \n",
       "max    77.000000  1.204953e+06  151.000000  70.000000  20.000000   5.000000   \n",
       "\n",
       "              A9         A10           A11        A13         A14  \\\n",
       "count  77.000000   77.000000     77.000000  77.000000   77.000000   \n",
       "mean    6.259740   63.035065   9031.675325   3.787013  116.129870   \n",
       "std     2.435497   16.221727    790.202347   1.908480   16.608773   \n",
       "min     1.000000   33.900000   8110.000000   0.430000   81.000000   \n",
       "25%     5.000000   51.900000   8512.000000   2.310000  105.000000   \n",
       "50%     6.000000   59.800000   8814.000000   3.600000  113.000000   \n",
       "75%     8.000000   73.500000   9317.000000   4.790000  126.000000   \n",
       "max    11.000000  100.000000  12541.000000   9.400000  167.000000   \n",
       "\n",
       "                A16  \n",
       "count     77.000000  \n",
       "mean    5030.831169  \n",
       "std    11270.796786  \n",
       "min      888.000000  \n",
       "25%     2122.000000  \n",
       "50%     3040.000000  \n",
       "75%     4595.000000  \n",
       "max    99107.000000  "
      ]
     },
     "execution_count": 23,
     "metadata": {},
     "output_type": "execute_result"
    }
   ],
   "source": [
    "data_describe(df_district)"
   ]
  },
  {
   "cell_type": "code",
   "execution_count": null,
   "id": "f461e51d",
   "metadata": {},
   "outputs": [],
   "source": []
  },
  {
   "cell_type": "code",
   "execution_count": 24,
   "id": "a61dc4c7",
   "metadata": {},
   "outputs": [
    {
     "name": "stdout",
     "output_type": "stream",
     "text": [
      "Data Description\n"
     ]
    },
    {
     "data": {
      "text/html": [
       "<div>\n",
       "<style scoped>\n",
       "    .dataframe tbody tr th:only-of-type {\n",
       "        vertical-align: middle;\n",
       "    }\n",
       "\n",
       "    .dataframe tbody tr th {\n",
       "        vertical-align: top;\n",
       "    }\n",
       "\n",
       "    .dataframe thead th {\n",
       "        text-align: right;\n",
       "    }\n",
       "</style>\n",
       "<table border=\"1\" class=\"dataframe\">\n",
       "  <thead>\n",
       "    <tr style=\"text-align: right;\">\n",
       "      <th></th>\n",
       "      <th>order_id</th>\n",
       "      <th>account_id</th>\n",
       "      <th>account_to</th>\n",
       "      <th>amount</th>\n",
       "    </tr>\n",
       "  </thead>\n",
       "  <tbody>\n",
       "    <tr>\n",
       "      <th>count</th>\n",
       "      <td>6471.000000</td>\n",
       "      <td>6471.000000</td>\n",
       "      <td>6.471000e+03</td>\n",
       "      <td>6471.000000</td>\n",
       "    </tr>\n",
       "    <tr>\n",
       "      <th>mean</th>\n",
       "      <td>33778.197497</td>\n",
       "      <td>2962.302890</td>\n",
       "      <td>4.939904e+07</td>\n",
       "      <td>3280.635698</td>\n",
       "    </tr>\n",
       "    <tr>\n",
       "      <th>std</th>\n",
       "      <td>3737.681949</td>\n",
       "      <td>2518.503228</td>\n",
       "      <td>2.888356e+07</td>\n",
       "      <td>2714.475335</td>\n",
       "    </tr>\n",
       "    <tr>\n",
       "      <th>min</th>\n",
       "      <td>29401.000000</td>\n",
       "      <td>1.000000</td>\n",
       "      <td>3.990000e+02</td>\n",
       "      <td>1.000000</td>\n",
       "    </tr>\n",
       "    <tr>\n",
       "      <th>25%</th>\n",
       "      <td>31187.500000</td>\n",
       "      <td>1223.000000</td>\n",
       "      <td>2.415918e+07</td>\n",
       "      <td>1241.500000</td>\n",
       "    </tr>\n",
       "    <tr>\n",
       "      <th>50%</th>\n",
       "      <td>32988.000000</td>\n",
       "      <td>2433.000000</td>\n",
       "      <td>4.975606e+07</td>\n",
       "      <td>2596.000000</td>\n",
       "    </tr>\n",
       "    <tr>\n",
       "      <th>75%</th>\n",
       "      <td>34785.500000</td>\n",
       "      <td>3645.500000</td>\n",
       "      <td>7.400045e+07</td>\n",
       "      <td>4613.500000</td>\n",
       "    </tr>\n",
       "    <tr>\n",
       "      <th>max</th>\n",
       "      <td>46338.000000</td>\n",
       "      <td>11362.000000</td>\n",
       "      <td>9.999420e+07</td>\n",
       "      <td>14882.000000</td>\n",
       "    </tr>\n",
       "  </tbody>\n",
       "</table>\n",
       "</div>"
      ],
      "text/plain": [
       "           order_id    account_id    account_to        amount\n",
       "count   6471.000000   6471.000000  6.471000e+03   6471.000000\n",
       "mean   33778.197497   2962.302890  4.939904e+07   3280.635698\n",
       "std     3737.681949   2518.503228  2.888356e+07   2714.475335\n",
       "min    29401.000000      1.000000  3.990000e+02      1.000000\n",
       "25%    31187.500000   1223.000000  2.415918e+07   1241.500000\n",
       "50%    32988.000000   2433.000000  4.975606e+07   2596.000000\n",
       "75%    34785.500000   3645.500000  7.400045e+07   4613.500000\n",
       "max    46338.000000  11362.000000  9.999420e+07  14882.000000"
      ]
     },
     "execution_count": 24,
     "metadata": {},
     "output_type": "execute_result"
    }
   ],
   "source": [
    "data_describe(df_order)"
   ]
  },
  {
   "cell_type": "code",
   "execution_count": 25,
   "id": "0bce456b",
   "metadata": {},
   "outputs": [
    {
     "name": "stdout",
     "output_type": "stream",
     "text": [
      "Data Description\n"
     ]
    },
    {
     "data": {
      "text/html": [
       "<div>\n",
       "<style scoped>\n",
       "    .dataframe tbody tr th:only-of-type {\n",
       "        vertical-align: middle;\n",
       "    }\n",
       "\n",
       "    .dataframe tbody tr th {\n",
       "        vertical-align: top;\n",
       "    }\n",
       "\n",
       "    .dataframe thead th {\n",
       "        text-align: right;\n",
       "    }\n",
       "</style>\n",
       "<table border=\"1\" class=\"dataframe\">\n",
       "  <thead>\n",
       "    <tr style=\"text-align: right;\">\n",
       "      <th></th>\n",
       "      <th>trans_id</th>\n",
       "      <th>account_id</th>\n",
       "      <th>date</th>\n",
       "      <th>amount</th>\n",
       "      <th>balance</th>\n",
       "      <th>account</th>\n",
       "    </tr>\n",
       "  </thead>\n",
       "  <tbody>\n",
       "    <tr>\n",
       "      <th>count</th>\n",
       "      <td>1.056320e+06</td>\n",
       "      <td>1.056320e+06</td>\n",
       "      <td>1.056320e+06</td>\n",
       "      <td>1.056320e+06</td>\n",
       "      <td>1.056320e+06</td>\n",
       "      <td>2.953890e+05</td>\n",
       "    </tr>\n",
       "    <tr>\n",
       "      <th>mean</th>\n",
       "      <td>1.335311e+06</td>\n",
       "      <td>2.936867e+03</td>\n",
       "      <td>9.656748e+05</td>\n",
       "      <td>5.924146e+03</td>\n",
       "      <td>3.851833e+04</td>\n",
       "      <td>4.567092e+07</td>\n",
       "    </tr>\n",
       "    <tr>\n",
       "      <th>std</th>\n",
       "      <td>1.227487e+06</td>\n",
       "      <td>2.477345e+03</td>\n",
       "      <td>1.394535e+04</td>\n",
       "      <td>9.522735e+03</td>\n",
       "      <td>2.211787e+04</td>\n",
       "      <td>3.066340e+07</td>\n",
       "    </tr>\n",
       "    <tr>\n",
       "      <th>min</th>\n",
       "      <td>1.000000e+00</td>\n",
       "      <td>1.000000e+00</td>\n",
       "      <td>9.301010e+05</td>\n",
       "      <td>0.000000e+00</td>\n",
       "      <td>-4.112570e+04</td>\n",
       "      <td>0.000000e+00</td>\n",
       "    </tr>\n",
       "    <tr>\n",
       "      <th>25%</th>\n",
       "      <td>4.302628e+05</td>\n",
       "      <td>1.204000e+03</td>\n",
       "      <td>9.601160e+05</td>\n",
       "      <td>1.359000e+02</td>\n",
       "      <td>2.240250e+04</td>\n",
       "      <td>1.782858e+07</td>\n",
       "    </tr>\n",
       "    <tr>\n",
       "      <th>50%</th>\n",
       "      <td>8.585065e+05</td>\n",
       "      <td>2.434000e+03</td>\n",
       "      <td>9.704100e+05</td>\n",
       "      <td>2.100000e+03</td>\n",
       "      <td>3.314340e+04</td>\n",
       "      <td>4.575095e+07</td>\n",
       "    </tr>\n",
       "    <tr>\n",
       "      <th>75%</th>\n",
       "      <td>2.060979e+06</td>\n",
       "      <td>3.660000e+03</td>\n",
       "      <td>9.802280e+05</td>\n",
       "      <td>6.800000e+03</td>\n",
       "      <td>4.960362e+04</td>\n",
       "      <td>7.201341e+07</td>\n",
       "    </tr>\n",
       "    <tr>\n",
       "      <th>max</th>\n",
       "      <td>3.682987e+06</td>\n",
       "      <td>1.138200e+04</td>\n",
       "      <td>9.812310e+05</td>\n",
       "      <td>8.740000e+04</td>\n",
       "      <td>2.096370e+05</td>\n",
       "      <td>9.999420e+07</td>\n",
       "    </tr>\n",
       "  </tbody>\n",
       "</table>\n",
       "</div>"
      ],
      "text/plain": [
       "           trans_id    account_id          date        amount       balance  \\\n",
       "count  1.056320e+06  1.056320e+06  1.056320e+06  1.056320e+06  1.056320e+06   \n",
       "mean   1.335311e+06  2.936867e+03  9.656748e+05  5.924146e+03  3.851833e+04   \n",
       "std    1.227487e+06  2.477345e+03  1.394535e+04  9.522735e+03  2.211787e+04   \n",
       "min    1.000000e+00  1.000000e+00  9.301010e+05  0.000000e+00 -4.112570e+04   \n",
       "25%    4.302628e+05  1.204000e+03  9.601160e+05  1.359000e+02  2.240250e+04   \n",
       "50%    8.585065e+05  2.434000e+03  9.704100e+05  2.100000e+03  3.314340e+04   \n",
       "75%    2.060979e+06  3.660000e+03  9.802280e+05  6.800000e+03  4.960362e+04   \n",
       "max    3.682987e+06  1.138200e+04  9.812310e+05  8.740000e+04  2.096370e+05   \n",
       "\n",
       "            account  \n",
       "count  2.953890e+05  \n",
       "mean   4.567092e+07  \n",
       "std    3.066340e+07  \n",
       "min    0.000000e+00  \n",
       "25%    1.782858e+07  \n",
       "50%    4.575095e+07  \n",
       "75%    7.201341e+07  \n",
       "max    9.999420e+07  "
      ]
     },
     "execution_count": 25,
     "metadata": {},
     "output_type": "execute_result"
    }
   ],
   "source": [
    "data_describe(df_trans)"
   ]
  },
  {
   "cell_type": "code",
   "execution_count": 26,
   "id": "61597de6",
   "metadata": {},
   "outputs": [],
   "source": [
    "#function to check null value\n",
    "def checking_null(df):\n",
    "    print(\"dataframe null value check\")\n",
    "    return df.isna().sum()"
   ]
  },
  {
   "cell_type": "code",
   "execution_count": 27,
   "id": "c8f16a7b",
   "metadata": {},
   "outputs": [],
   "source": [
    "#dataframes = ['df_card', 'df_client', 'df_disp', 'df_district', 'df_load', 'df_order', 'df_trans']"
   ]
  },
  {
   "cell_type": "code",
   "execution_count": 28,
   "id": "1e9b4539",
   "metadata": {},
   "outputs": [
    {
     "name": "stdout",
     "output_type": "stream",
     "text": [
      "dataframe null value check\n"
     ]
    },
    {
     "data": {
      "text/plain": [
       "card_id    0\n",
       "disp_id    0\n",
       "type       0\n",
       "issued     0\n",
       "dtype: int64"
      ]
     },
     "execution_count": 28,
     "metadata": {},
     "output_type": "execute_result"
    }
   ],
   "source": [
    "checking_null(df_card)"
   ]
  },
  {
   "cell_type": "code",
   "execution_count": 29,
   "id": "c5c23fb4",
   "metadata": {},
   "outputs": [
    {
     "name": "stdout",
     "output_type": "stream",
     "text": [
      "dataframe null value check\n"
     ]
    },
    {
     "data": {
      "text/plain": [
       "client_id       0\n",
       "birth_number    0\n",
       "district_id     0\n",
       "dtype: int64"
      ]
     },
     "execution_count": 29,
     "metadata": {},
     "output_type": "execute_result"
    }
   ],
   "source": [
    "checking_null(df_client)"
   ]
  },
  {
   "cell_type": "code",
   "execution_count": 30,
   "id": "bd6072f3",
   "metadata": {},
   "outputs": [
    {
     "name": "stdout",
     "output_type": "stream",
     "text": [
      "dataframe null value check\n"
     ]
    },
    {
     "data": {
      "text/plain": [
       "disp_id       0\n",
       "client_id     0\n",
       "account_id    0\n",
       "type          0\n",
       "dtype: int64"
      ]
     },
     "execution_count": 30,
     "metadata": {},
     "output_type": "execute_result"
    }
   ],
   "source": [
    "checking_null(df_disp)"
   ]
  },
  {
   "cell_type": "code",
   "execution_count": 31,
   "id": "acce2871",
   "metadata": {},
   "outputs": [
    {
     "name": "stdout",
     "output_type": "stream",
     "text": [
      "dataframe null value check\n"
     ]
    },
    {
     "data": {
      "text/plain": [
       "A1     0\n",
       "A2     0\n",
       "A3     0\n",
       "A4     0\n",
       "A5     0\n",
       "A6     0\n",
       "A7     0\n",
       "A8     0\n",
       "A9     0\n",
       "A10    0\n",
       "A11    0\n",
       "A12    0\n",
       "A13    0\n",
       "A14    0\n",
       "A15    0\n",
       "A16    0\n",
       "dtype: int64"
      ]
     },
     "execution_count": 31,
     "metadata": {},
     "output_type": "execute_result"
    }
   ],
   "source": [
    "checking_null(df_district)"
   ]
  },
  {
   "cell_type": "code",
   "execution_count": 32,
   "id": "e87858f8",
   "metadata": {},
   "outputs": [
    {
     "data": {
      "text/plain": [
       "account_id     0\n",
       "district_id    0\n",
       "frequency      0\n",
       "date           0\n",
       "dtype: int64"
      ]
     },
     "execution_count": 32,
     "metadata": {},
     "output_type": "execute_result"
    }
   ],
   "source": [
    "df_account.isna().sum()"
   ]
  },
  {
   "cell_type": "code",
   "execution_count": 33,
   "id": "7a6053ad",
   "metadata": {},
   "outputs": [
    {
     "data": {
      "text/plain": [
       "account_id     0\n",
       "district_id    0\n",
       "frequency      0\n",
       "date           0\n",
       "dtype: int64"
      ]
     },
     "execution_count": 33,
     "metadata": {},
     "output_type": "execute_result"
    }
   ],
   "source": [
    "df_account.isnull().sum()"
   ]
  },
  {
   "cell_type": "code",
   "execution_count": 34,
   "id": "5e81d29c",
   "metadata": {},
   "outputs": [
    {
     "data": {
      "text/html": [
       "<div>\n",
       "<style scoped>\n",
       "    .dataframe tbody tr th:only-of-type {\n",
       "        vertical-align: middle;\n",
       "    }\n",
       "\n",
       "    .dataframe tbody tr th {\n",
       "        vertical-align: top;\n",
       "    }\n",
       "\n",
       "    .dataframe thead th {\n",
       "        text-align: right;\n",
       "    }\n",
       "</style>\n",
       "<table border=\"1\" class=\"dataframe\">\n",
       "  <thead>\n",
       "    <tr style=\"text-align: right;\">\n",
       "      <th></th>\n",
       "      <th>account_id</th>\n",
       "      <th>district_id</th>\n",
       "      <th>frequency</th>\n",
       "      <th>date</th>\n",
       "    </tr>\n",
       "  </thead>\n",
       "  <tbody>\n",
       "    <tr>\n",
       "      <th>0</th>\n",
       "      <td>576</td>\n",
       "      <td>55</td>\n",
       "      <td>POPLATEK MESICNE</td>\n",
       "      <td>930101</td>\n",
       "    </tr>\n",
       "    <tr>\n",
       "      <th>1</th>\n",
       "      <td>3818</td>\n",
       "      <td>74</td>\n",
       "      <td>POPLATEK MESICNE</td>\n",
       "      <td>930101</td>\n",
       "    </tr>\n",
       "    <tr>\n",
       "      <th>2</th>\n",
       "      <td>704</td>\n",
       "      <td>55</td>\n",
       "      <td>POPLATEK MESICNE</td>\n",
       "      <td>930101</td>\n",
       "    </tr>\n",
       "    <tr>\n",
       "      <th>3</th>\n",
       "      <td>2378</td>\n",
       "      <td>16</td>\n",
       "      <td>POPLATEK MESICNE</td>\n",
       "      <td>930101</td>\n",
       "    </tr>\n",
       "    <tr>\n",
       "      <th>4</th>\n",
       "      <td>2632</td>\n",
       "      <td>24</td>\n",
       "      <td>POPLATEK MESICNE</td>\n",
       "      <td>930102</td>\n",
       "    </tr>\n",
       "  </tbody>\n",
       "</table>\n",
       "</div>"
      ],
      "text/plain": [
       "   account_id  district_id         frequency    date\n",
       "0         576           55  POPLATEK MESICNE  930101\n",
       "1        3818           74  POPLATEK MESICNE  930101\n",
       "2         704           55  POPLATEK MESICNE  930101\n",
       "3        2378           16  POPLATEK MESICNE  930101\n",
       "4        2632           24  POPLATEK MESICNE  930102"
      ]
     },
     "execution_count": 34,
     "metadata": {},
     "output_type": "execute_result"
    }
   ],
   "source": [
    "df_account.head()"
   ]
  },
  {
   "cell_type": "code",
   "execution_count": 35,
   "id": "e3527df5",
   "metadata": {},
   "outputs": [
    {
     "data": {
      "text/plain": [
       "account_id  district_id  frequency         date  \n",
       "1           18           POPLATEK MESICNE  950324    1\n",
       "3153        2            POPLATEK MESICNE  960705    1\n",
       "3160        22           POPLATEK MESICNE  940619    1\n",
       "3158        71           POPLATEK MESICNE  961003    1\n",
       "3157        77           POPLATEK MESICNE  930910    1\n",
       "                                                    ..\n",
       "1585        42           POPLATEK MESICNE  960223    1\n",
       "1586        1            POPLATEK MESICNE  961003    1\n",
       "1587        1            POPLATEK MESICNE  961211    1\n",
       "1588        67           POPLATEK MESICNE  931211    1\n",
       "11382       74           POPLATEK MESICNE  950820    1\n",
       "Length: 4500, dtype: int64"
      ]
     },
     "execution_count": 35,
     "metadata": {},
     "output_type": "execute_result"
    }
   ],
   "source": [
    "df_account.value_counts()"
   ]
  },
  {
   "cell_type": "code",
   "execution_count": 36,
   "id": "a1bb0331",
   "metadata": {},
   "outputs": [
    {
     "data": {
      "text/plain": [
       "array(['POPLATEK MESICNE', 'POPLATEK PO OBRATU', 'POPLATEK TYDNE'],\n",
       "      dtype=object)"
      ]
     },
     "execution_count": 36,
     "metadata": {},
     "output_type": "execute_result"
    }
   ],
   "source": [
    "df_account['frequency'].unique()"
   ]
  },
  {
   "cell_type": "code",
   "execution_count": 37,
   "id": "9344b0df",
   "metadata": {},
   "outputs": [
    {
     "data": {
      "text/plain": [
       "(4500, 4)"
      ]
     },
     "execution_count": 37,
     "metadata": {},
     "output_type": "execute_result"
    }
   ],
   "source": [
    "df_account.shape"
   ]
  },
  {
   "cell_type": "code",
   "execution_count": 38,
   "id": "53093a38",
   "metadata": {},
   "outputs": [],
   "source": [
    "def data_info(df):\n",
    "    print(\"Intial information of Data \")\n",
    "    return df.info()\n",
    "    "
   ]
  },
  {
   "cell_type": "code",
   "execution_count": 39,
   "id": "e070c842",
   "metadata": {},
   "outputs": [
    {
     "name": "stdout",
     "output_type": "stream",
     "text": [
      "Intial information of Data \n",
      "<class 'pandas.core.frame.DataFrame'>\n",
      "RangeIndex: 4500 entries, 0 to 4499\n",
      "Data columns (total 4 columns):\n",
      " #   Column       Non-Null Count  Dtype \n",
      "---  ------       --------------  ----- \n",
      " 0   account_id   4500 non-null   int64 \n",
      " 1   district_id  4500 non-null   int64 \n",
      " 2   frequency    4500 non-null   object\n",
      " 3   date         4500 non-null   int64 \n",
      "dtypes: int64(3), object(1)\n",
      "memory usage: 140.8+ KB\n"
     ]
    }
   ],
   "source": [
    "data_info(df_account)"
   ]
  },
  {
   "cell_type": "code",
   "execution_count": 40,
   "id": "df38a9a6",
   "metadata": {},
   "outputs": [],
   "source": [
    "import cx_Oracle\n",
    "dsn_tns = cx_Oracle.makedsn('localhost', '1521', service_name='orcl')\n",
    "conn = cx_Oracle.connect(user=r'haresh', password='haresh2019', dsn=dsn_tns)\n",
    "c = conn.cursor()"
   ]
  },
  {
   "cell_type": "code",
   "execution_count": 41,
   "id": "7039dc69",
   "metadata": {},
   "outputs": [
    {
     "data": {
      "text/plain": [
       "<cx_Oracle.Cursor on <cx_Oracle.Connection to haresh@(DESCRIPTION=(ADDRESS=(PROTOCOL=TCP)(HOST=localhost)(PORT=1521))(CONNECT_DATA=(SERVICE_NAME=orcl)))>>"
      ]
     },
     "execution_count": 41,
     "metadata": {},
     "output_type": "execute_result"
    }
   ],
   "source": [
    "c.execute(\"select * from tab\")"
   ]
  },
  {
   "cell_type": "code",
   "execution_count": 42,
   "id": "b5765507",
   "metadata": {},
   "outputs": [
    {
     "name": "stdout",
     "output_type": "stream",
     "text": [
      "('ACCOUNT', 'TABLE', None)\n",
      "('BIN$RlJ22QCjSQOUkafpQqkfRA==$0', 'TABLE', None)\n",
      "('BIN$SVnAyidCToWdUqx0953+XA==$0', 'TABLE', None)\n",
      "('BIN$qNU9ARPcQiK2b1DubANKGw==$0', 'TABLE', None)\n",
      "('BIN$shgWz31bSueoMTGdw9QOHA==$0', 'TABLE', None)\n",
      "('BIN$u/jvrFLbR/2G6506Ziu1YQ==$0', 'TABLE', None)\n",
      "('CARD', 'TABLE', None)\n",
      "('CLIENT', 'TABLE', None)\n",
      "('DISP', 'TABLE', None)\n",
      "('DISTRICT', 'TABLE', None)\n",
      "('LOAN', 'TABLE', None)\n",
      "('ORDER1', 'TABLE', None)\n",
      "('TAB1', 'TABLE', None)\n",
      "('TAB2', 'TABLE', None)\n",
      "('TAB24', 'VIEW', None)\n",
      "('TAB3', 'TABLE', None)\n",
      "('TAB4', 'TABLE', None)\n",
      "('TELCOM_CHURN', 'TABLE', None)\n",
      "('TRANSACTION1', 'TABLE', None)\n",
      "('TRANSACTION_A', 'TABLE', None)\n"
     ]
    }
   ],
   "source": [
    "for i in c:\n",
    "    print(i)"
   ]
  },
  {
   "cell_type": "code",
   "execution_count": null,
   "id": "da18466d",
   "metadata": {},
   "outputs": [],
   "source": [
    "# creating table in oracle db\n",
    "c.execute(\"create table account (account_id varchar2(30), district_id varchar2(30), frequency number, Acc_date number)\")\n",
    "c.execute(\"create table card (card_id varchar2(30), disp_id varchar2(30), type varchar2(30), issued varchar2(30))\")\n",
    "c.execute(\"create table client (client_id varchar2(30), birth_number varchar2(30), district_id varchar2(30))\")\n",
    "c.execute(\"create table disp (disp_id varchar2(30), client_id varchar2(30), account_id varchar2(30), type varchar2(30))\")\n",
    "c.execute(\"create table district (A1 varchar2(30), A2 varchar2(30), A3 varchar2(30), A4 number, A5 number, A6 number, A7 number, A8 number, A9 number, A10 number, A11 number, A12 number, A13 number,  A14 number,  A15 number,  A16 number )\")\n",
    "c.execute(\"create table loan (loan_id varchar2(30), account_id varchar2(30), loan_date varchar2(30), amount number, duration number, payments number, status varchar2(30))\")\n",
    "c.execute(\"create table order (order_id varchar2(30), account_id varchar2(30), bank_to varchar2(30), account_to varchar2(30), amount number, k_symbol varchar2(30))\")\n",
    "c.execute(\"create table transaction (trans_id varchar2(30), account_id varchar2(30), date number, type varchar2(30), operation varchar2(30), amount number, balance number, k_symbol varchar2(30), bank varchar2(30), account varchar2(30))\")"
   ]
  },
  {
   "cell_type": "code",
   "execution_count": null,
   "id": "28c48c20",
   "metadata": {},
   "outputs": [],
   "source": [
    "c.execute(\"commit\")"
   ]
  },
  {
   "cell_type": "code",
   "execution_count": null,
   "id": "7fe77d4b",
   "metadata": {},
   "outputs": [],
   "source": [
    "#dataframes = ['df_card', 'df_client', 'df_disp', 'df_district', 'df_load', 'df_order', 'df_trans', 'df_loan']"
   ]
  },
  {
   "cell_type": "code",
   "execution_count": null,
   "id": "dc417490",
   "metadata": {},
   "outputs": [],
   "source": [
    "\n",
    "for i in range(0, len(df_card)):\n",
    "    c.execute(\"INSERT INTO CARD VALUES {}\".format(tuple(df_card.values.tolist()[i])))\n",
    "    c.execute(\"commit\")\n",
    "    \n",
    "    \n",
    "for i in range(0, len(df_client)):\n",
    "    c.execute(\"INSERT INTO client VALUES {}\".format(tuple(df_client.values.tolist()[i])))\n",
    "    c.execute(\"commit\")\n",
    "    \n",
    "\n",
    "for i in range(0, len(df_disp)):\n",
    "    c.execute(\"INSERT INTO DISP VALUES {}\".format(tuple(df_disp.values.tolist()[i])))\n",
    "    c.execute(\"commit\")\n",
    "    \n",
    "\n",
    "    "
   ]
  },
  {
   "cell_type": "code",
   "execution_count": null,
   "id": "88adac0a",
   "metadata": {},
   "outputs": [],
   "source": [
    "for i in range(0, len(df_loan)):\n",
    "    (tuple(df_loan.values.tolist()[i]))\n",
    "    c.execute(\"INSERT INTO LOAN VALUES {}\".format(tuple(df_loan.values.tolist()[i])))\n",
    "    c.execute(\"commit\")\n",
    "    \n",
    "    \n",
    "for i in range(0, len(df_order)):\n",
    "    (tuple(df_order.values.tolist()[i]))\n",
    "    c.execute(\"INSERT INTO ORDER1 VALUES {}\".format(tuple(df_order.values.tolist()[i])))\n",
    "    c.execute(\"commit\")\n",
    "    \n",
    "\n",
    "for i in range(0, len(df_trans)):\n",
    "    (tuple(df_trans.values.tolist()[i]))\n",
    "    c.execute(\"INSERT INTO TRANSACTION VALUES {}\".format(tuple(df_trans.values.tolist()[i])))\n",
    "    c.execute(\"commit\")\n",
    "    \n",
    "    \n",
    "for i in range(0, len(df_account)):\n",
    "    c.execute(\"INSERT INTO ACCOUNT VALUES {}\".format(tuple(df_account.values.tolist()[i])))\n",
    "    c.execute(\"commit\")"
   ]
  },
  {
   "cell_type": "code",
   "execution_count": null,
   "id": "a923d669",
   "metadata": {},
   "outputs": [],
   "source": [
    "for i in range(0, len(df_district)):\n",
    "    c.execute(\"INSERT INTO DISTRICT VALUES {}\".format(tuple(df_district.values.tolist()[i])))\n",
    "    c.execute(\"commit\")"
   ]
  },
  {
   "cell_type": "code",
   "execution_count": 38,
   "id": "6180f1e3",
   "metadata": {},
   "outputs": [],
   "source": [
    "df_trans = df_trans.astype(object).where(pd.notnull(df_trans), '')"
   ]
  },
  {
   "cell_type": "code",
   "execution_count": null,
   "id": "56c6e3c6",
   "metadata": {},
   "outputs": [],
   "source": [
    "df_trans.info()"
   ]
  },
  {
   "cell_type": "code",
   "execution_count": null,
   "id": "05e65e3d",
   "metadata": {},
   "outputs": [],
   "source": [
    "df_trans.head()"
   ]
  },
  {
   "cell_type": "code",
   "execution_count": 39,
   "id": "99c2c115",
   "metadata": {},
   "outputs": [
    {
     "ename": "KeyboardInterrupt",
     "evalue": "",
     "output_type": "error",
     "traceback": [
      "\u001b[1;31m---------------------------------------------------------------------------\u001b[0m",
      "\u001b[1;31mKeyboardInterrupt\u001b[0m                         Traceback (most recent call last)",
      "\u001b[1;32m<ipython-input-39-89d115f2bd75>\u001b[0m in \u001b[0;36m<module>\u001b[1;34m\u001b[0m\n\u001b[0;32m      1\u001b[0m \u001b[1;32mfor\u001b[0m \u001b[0mi\u001b[0m \u001b[1;32min\u001b[0m \u001b[0mrange\u001b[0m\u001b[1;33m(\u001b[0m\u001b[1;36m0\u001b[0m\u001b[1;33m,\u001b[0m \u001b[0mlen\u001b[0m\u001b[1;33m(\u001b[0m\u001b[0mdf_trans\u001b[0m\u001b[1;33m)\u001b[0m\u001b[1;33m)\u001b[0m\u001b[1;33m:\u001b[0m\u001b[1;33m\u001b[0m\u001b[1;33m\u001b[0m\u001b[0m\n\u001b[1;32m----> 2\u001b[1;33m     \u001b[0mc\u001b[0m\u001b[1;33m.\u001b[0m\u001b[0mexecute\u001b[0m\u001b[1;33m(\u001b[0m\u001b[1;34m\"INSERT INTO TRANSACTION1 VALUES {}\"\u001b[0m\u001b[1;33m.\u001b[0m\u001b[0mformat\u001b[0m\u001b[1;33m(\u001b[0m\u001b[0mtuple\u001b[0m\u001b[1;33m(\u001b[0m\u001b[0mdf_trans\u001b[0m\u001b[1;33m.\u001b[0m\u001b[0mvalues\u001b[0m\u001b[1;33m.\u001b[0m\u001b[0mtolist\u001b[0m\u001b[1;33m(\u001b[0m\u001b[1;33m)\u001b[0m\u001b[1;33m[\u001b[0m\u001b[0mi\u001b[0m\u001b[1;33m]\u001b[0m\u001b[1;33m)\u001b[0m\u001b[1;33m)\u001b[0m\u001b[1;33m)\u001b[0m\u001b[1;33m\u001b[0m\u001b[1;33m\u001b[0m\u001b[0m\n\u001b[0m\u001b[0;32m      3\u001b[0m     \u001b[0mc\u001b[0m\u001b[1;33m.\u001b[0m\u001b[0mexecute\u001b[0m\u001b[1;33m(\u001b[0m\u001b[1;34m\"commit\"\u001b[0m\u001b[1;33m)\u001b[0m\u001b[1;33m\u001b[0m\u001b[1;33m\u001b[0m\u001b[0m\n",
      "\u001b[1;31mKeyboardInterrupt\u001b[0m: "
     ]
    }
   ],
   "source": [
    "for i in range(0, len(df_trans)):\n",
    "    c.execute(\"INSERT INTO TRANSACTION1 VALUES {}\".format(tuple(df_trans.values.tolist()[i])))\n",
    "    c.execute(\"commit\")"
   ]
  },
  {
   "cell_type": "code",
   "execution_count": null,
   "id": "c84bc48c",
   "metadata": {},
   "outputs": [],
   "source": [
    "df_trans.isna().sum(), len(df_trans)"
   ]
  },
  {
   "cell_type": "code",
   "execution_count": null,
   "id": "6c0613f9",
   "metadata": {},
   "outputs": [],
   "source": [
    "df_trans.info()"
   ]
  },
  {
   "cell_type": "code",
   "execution_count": null,
   "id": "8f097f19",
   "metadata": {},
   "outputs": [],
   "source": [
    "df_trans"
   ]
  },
  {
   "cell_type": "code",
   "execution_count": null,
   "id": "c8fdc1fb",
   "metadata": {},
   "outputs": [],
   "source": [
    "df_trans.info()"
   ]
  },
  {
   "cell_type": "code",
   "execution_count": null,
   "id": "c8ea0155",
   "metadata": {},
   "outputs": [],
   "source": [
    "for i in range(0, len(df_trans)):\n",
    "    c.execute(\"INSERT INTO transaction1 (trans_id, account_id, trans_date, type, operation, amount, balance, k_symbol, bank, account ) VALUES {}\".format(tuple(df_trans.values.tolist()[i])))"
   ]
  },
  {
   "cell_type": "code",
   "execution_count": 43,
   "id": "ab5671bd",
   "metadata": {},
   "outputs": [
    {
     "data": {
      "text/html": [
       "<div>\n",
       "<style scoped>\n",
       "    .dataframe tbody tr th:only-of-type {\n",
       "        vertical-align: middle;\n",
       "    }\n",
       "\n",
       "    .dataframe tbody tr th {\n",
       "        vertical-align: top;\n",
       "    }\n",
       "\n",
       "    .dataframe thead th {\n",
       "        text-align: right;\n",
       "    }\n",
       "</style>\n",
       "<table border=\"1\" class=\"dataframe\">\n",
       "  <thead>\n",
       "    <tr style=\"text-align: right;\">\n",
       "      <th></th>\n",
       "      <th>trans_id</th>\n",
       "      <th>account_id</th>\n",
       "      <th>date</th>\n",
       "      <th>type</th>\n",
       "      <th>operation</th>\n",
       "      <th>amount</th>\n",
       "      <th>balance</th>\n",
       "      <th>k_symbol</th>\n",
       "      <th>bank</th>\n",
       "      <th>account</th>\n",
       "    </tr>\n",
       "  </thead>\n",
       "  <tbody>\n",
       "    <tr>\n",
       "      <th>0</th>\n",
       "      <td>695247</td>\n",
       "      <td>2378</td>\n",
       "      <td>930101</td>\n",
       "      <td>PRIJEM</td>\n",
       "      <td>VKLAD</td>\n",
       "      <td>700.0</td>\n",
       "      <td>700.0</td>\n",
       "      <td>NaN</td>\n",
       "      <td>NaN</td>\n",
       "      <td>NaN</td>\n",
       "    </tr>\n",
       "    <tr>\n",
       "      <th>1</th>\n",
       "      <td>171812</td>\n",
       "      <td>576</td>\n",
       "      <td>930101</td>\n",
       "      <td>PRIJEM</td>\n",
       "      <td>VKLAD</td>\n",
       "      <td>900.0</td>\n",
       "      <td>900.0</td>\n",
       "      <td>NaN</td>\n",
       "      <td>NaN</td>\n",
       "      <td>NaN</td>\n",
       "    </tr>\n",
       "    <tr>\n",
       "      <th>2</th>\n",
       "      <td>207264</td>\n",
       "      <td>704</td>\n",
       "      <td>930101</td>\n",
       "      <td>PRIJEM</td>\n",
       "      <td>VKLAD</td>\n",
       "      <td>1000.0</td>\n",
       "      <td>1000.0</td>\n",
       "      <td>NaN</td>\n",
       "      <td>NaN</td>\n",
       "      <td>NaN</td>\n",
       "    </tr>\n",
       "    <tr>\n",
       "      <th>3</th>\n",
       "      <td>1117247</td>\n",
       "      <td>3818</td>\n",
       "      <td>930101</td>\n",
       "      <td>PRIJEM</td>\n",
       "      <td>VKLAD</td>\n",
       "      <td>600.0</td>\n",
       "      <td>600.0</td>\n",
       "      <td>NaN</td>\n",
       "      <td>NaN</td>\n",
       "      <td>NaN</td>\n",
       "    </tr>\n",
       "    <tr>\n",
       "      <th>4</th>\n",
       "      <td>579373</td>\n",
       "      <td>1972</td>\n",
       "      <td>930102</td>\n",
       "      <td>PRIJEM</td>\n",
       "      <td>VKLAD</td>\n",
       "      <td>400.0</td>\n",
       "      <td>400.0</td>\n",
       "      <td>NaN</td>\n",
       "      <td>NaN</td>\n",
       "      <td>NaN</td>\n",
       "    </tr>\n",
       "    <tr>\n",
       "      <th>...</th>\n",
       "      <td>...</td>\n",
       "      <td>...</td>\n",
       "      <td>...</td>\n",
       "      <td>...</td>\n",
       "      <td>...</td>\n",
       "      <td>...</td>\n",
       "      <td>...</td>\n",
       "      <td>...</td>\n",
       "      <td>...</td>\n",
       "      <td>...</td>\n",
       "    </tr>\n",
       "    <tr>\n",
       "      <th>1056315</th>\n",
       "      <td>3626622</td>\n",
       "      <td>2906</td>\n",
       "      <td>981231</td>\n",
       "      <td>PRIJEM</td>\n",
       "      <td>NaN</td>\n",
       "      <td>62.3</td>\n",
       "      <td>13729.4</td>\n",
       "      <td>UROK</td>\n",
       "      <td>NaN</td>\n",
       "      <td>NaN</td>\n",
       "    </tr>\n",
       "    <tr>\n",
       "      <th>1056316</th>\n",
       "      <td>3627616</td>\n",
       "      <td>2935</td>\n",
       "      <td>981231</td>\n",
       "      <td>PRIJEM</td>\n",
       "      <td>NaN</td>\n",
       "      <td>81.3</td>\n",
       "      <td>19544.9</td>\n",
       "      <td>UROK</td>\n",
       "      <td>NaN</td>\n",
       "      <td>NaN</td>\n",
       "    </tr>\n",
       "    <tr>\n",
       "      <th>1056317</th>\n",
       "      <td>3625403</td>\n",
       "      <td>2869</td>\n",
       "      <td>981231</td>\n",
       "      <td>PRIJEM</td>\n",
       "      <td>NaN</td>\n",
       "      <td>60.2</td>\n",
       "      <td>14638.2</td>\n",
       "      <td>UROK</td>\n",
       "      <td>NaN</td>\n",
       "      <td>NaN</td>\n",
       "    </tr>\n",
       "    <tr>\n",
       "      <th>1056318</th>\n",
       "      <td>3626683</td>\n",
       "      <td>2907</td>\n",
       "      <td>981231</td>\n",
       "      <td>PRIJEM</td>\n",
       "      <td>NaN</td>\n",
       "      <td>107.5</td>\n",
       "      <td>23453.0</td>\n",
       "      <td>UROK</td>\n",
       "      <td>NaN</td>\n",
       "      <td>NaN</td>\n",
       "    </tr>\n",
       "    <tr>\n",
       "      <th>1056319</th>\n",
       "      <td>3626540</td>\n",
       "      <td>2902</td>\n",
       "      <td>981231</td>\n",
       "      <td>PRIJEM</td>\n",
       "      <td>NaN</td>\n",
       "      <td>164.1</td>\n",
       "      <td>41642.9</td>\n",
       "      <td>UROK</td>\n",
       "      <td>NaN</td>\n",
       "      <td>NaN</td>\n",
       "    </tr>\n",
       "  </tbody>\n",
       "</table>\n",
       "<p>1056320 rows × 10 columns</p>\n",
       "</div>"
      ],
      "text/plain": [
       "         trans_id  account_id    date    type operation  amount  balance  \\\n",
       "0          695247        2378  930101  PRIJEM     VKLAD   700.0    700.0   \n",
       "1          171812         576  930101  PRIJEM     VKLAD   900.0    900.0   \n",
       "2          207264         704  930101  PRIJEM     VKLAD  1000.0   1000.0   \n",
       "3         1117247        3818  930101  PRIJEM     VKLAD   600.0    600.0   \n",
       "4          579373        1972  930102  PRIJEM     VKLAD   400.0    400.0   \n",
       "...           ...         ...     ...     ...       ...     ...      ...   \n",
       "1056315   3626622        2906  981231  PRIJEM       NaN    62.3  13729.4   \n",
       "1056316   3627616        2935  981231  PRIJEM       NaN    81.3  19544.9   \n",
       "1056317   3625403        2869  981231  PRIJEM       NaN    60.2  14638.2   \n",
       "1056318   3626683        2907  981231  PRIJEM       NaN   107.5  23453.0   \n",
       "1056319   3626540        2902  981231  PRIJEM       NaN   164.1  41642.9   \n",
       "\n",
       "        k_symbol bank  account  \n",
       "0            NaN  NaN      NaN  \n",
       "1            NaN  NaN      NaN  \n",
       "2            NaN  NaN      NaN  \n",
       "3            NaN  NaN      NaN  \n",
       "4            NaN  NaN      NaN  \n",
       "...          ...  ...      ...  \n",
       "1056315     UROK  NaN      NaN  \n",
       "1056316     UROK  NaN      NaN  \n",
       "1056317     UROK  NaN      NaN  \n",
       "1056318     UROK  NaN      NaN  \n",
       "1056319     UROK  NaN      NaN  \n",
       "\n",
       "[1056320 rows x 10 columns]"
      ]
     },
     "execution_count": 43,
     "metadata": {},
     "output_type": "execute_result"
    }
   ],
   "source": [
    "df_trans"
   ]
  },
  {
   "cell_type": "code",
   "execution_count": 44,
   "id": "fa11524e",
   "metadata": {},
   "outputs": [
    {
     "name": "stdout",
     "output_type": "stream",
     "text": [
      "<class 'pandas.core.frame.DataFrame'>\n",
      "RangeIndex: 1056320 entries, 0 to 1056319\n",
      "Data columns (total 10 columns):\n",
      " #   Column      Non-Null Count    Dtype  \n",
      "---  ------      --------------    -----  \n",
      " 0   trans_id    1056320 non-null  int64  \n",
      " 1   account_id  1056320 non-null  int64  \n",
      " 2   date        1056320 non-null  int64  \n",
      " 3   type        1056320 non-null  object \n",
      " 4   operation   873206 non-null   object \n",
      " 5   amount      1056320 non-null  float64\n",
      " 6   balance     1056320 non-null  float64\n",
      " 7   k_symbol    574439 non-null   object \n",
      " 8   bank        273508 non-null   object \n",
      " 9   account     295389 non-null   float64\n",
      "dtypes: float64(3), int64(3), object(4)\n",
      "memory usage: 80.6+ MB\n"
     ]
    }
   ],
   "source": [
    "df_trans.info()"
   ]
  },
  {
   "cell_type": "code",
   "execution_count": 47,
   "id": "abd0af50",
   "metadata": {},
   "outputs": [
    {
     "data": {
      "text/plain": [
       "(trans_id           0\n",
       " account_id         0\n",
       " date               0\n",
       " type               0\n",
       " operation     183114\n",
       " amount             0\n",
       " balance            0\n",
       " k_symbol      481881\n",
       " bank          782812\n",
       " account       760931\n",
       " dtype: int64,\n",
       " 1056320)"
      ]
     },
     "execution_count": 47,
     "metadata": {},
     "output_type": "execute_result"
    }
   ],
   "source": [
    "df_trans.isna().sum(), len(df_trans)"
   ]
  },
  {
   "cell_type": "code",
   "execution_count": null,
   "id": "e2260179",
   "metadata": {},
   "outputs": [],
   "source": []
  },
  {
   "cell_type": "code",
   "execution_count": 46,
   "id": "0f604d7b",
   "metadata": {},
   "outputs": [
    {
     "ename": "KeyboardInterrupt",
     "evalue": "",
     "output_type": "error",
     "traceback": [
      "\u001b[1;31m---------------------------------------------------------------------------\u001b[0m",
      "\u001b[1;31mKeyboardInterrupt\u001b[0m                         Traceback (most recent call last)",
      "\u001b[1;32m<ipython-input-46-7f3e4ff1e2b6>\u001b[0m in \u001b[0;36m<module>\u001b[1;34m\u001b[0m\n\u001b[0;32m      1\u001b[0m \u001b[1;32mfor\u001b[0m \u001b[0mi\u001b[0m \u001b[1;32min\u001b[0m \u001b[0mrange\u001b[0m\u001b[1;33m(\u001b[0m\u001b[1;36m0\u001b[0m\u001b[1;33m,\u001b[0m \u001b[0mlen\u001b[0m\u001b[1;33m(\u001b[0m\u001b[0mdf_trans\u001b[0m\u001b[1;33m)\u001b[0m\u001b[1;33m)\u001b[0m\u001b[1;33m:\u001b[0m\u001b[1;33m\u001b[0m\u001b[1;33m\u001b[0m\u001b[0m\n\u001b[1;32m----> 2\u001b[1;33m     \u001b[0mc\u001b[0m\u001b[1;33m.\u001b[0m\u001b[0mexecute\u001b[0m\u001b[1;33m(\u001b[0m\u001b[1;34m\"INSERT INTO transaction_a (trans_id, account_id) VALUES {}\"\u001b[0m\u001b[1;33m.\u001b[0m\u001b[0mformat\u001b[0m\u001b[1;33m(\u001b[0m\u001b[0mtuple\u001b[0m\u001b[1;33m(\u001b[0m\u001b[0mdf_trans\u001b[0m\u001b[1;33m[\u001b[0m\u001b[1;33m[\u001b[0m\u001b[1;34m'trans_id'\u001b[0m\u001b[1;33m,\u001b[0m \u001b[1;34m'account_id'\u001b[0m\u001b[1;33m]\u001b[0m\u001b[1;33m]\u001b[0m\u001b[1;33m.\u001b[0m\u001b[0mvalues\u001b[0m\u001b[1;33m.\u001b[0m\u001b[0mtolist\u001b[0m\u001b[1;33m(\u001b[0m\u001b[1;33m)\u001b[0m\u001b[1;33m[\u001b[0m\u001b[0mi\u001b[0m\u001b[1;33m]\u001b[0m\u001b[1;33m)\u001b[0m\u001b[1;33m)\u001b[0m\u001b[1;33m)\u001b[0m\u001b[1;33m\u001b[0m\u001b[1;33m\u001b[0m\u001b[0m\n\u001b[0m\u001b[0;32m      3\u001b[0m     \u001b[0mc\u001b[0m\u001b[1;33m.\u001b[0m\u001b[0mexecute\u001b[0m\u001b[1;33m(\u001b[0m\u001b[1;34m\"commit\"\u001b[0m\u001b[1;33m)\u001b[0m\u001b[1;33m\u001b[0m\u001b[1;33m\u001b[0m\u001b[0m\n",
      "\u001b[1;31mKeyboardInterrupt\u001b[0m: "
     ]
    }
   ],
   "source": [
    "for i in range(0, len(df_trans)):\n",
    "    c.execute(\"INSERT INTO transaction_a (trans_id, account_id) VALUES {}\".format(tuple(df_trans[['trans_id', 'account_id']].values.tolist()[i])))\n",
    "    c.execute(\"commit\")"
   ]
  },
  {
   "cell_type": "code",
   "execution_count": 45,
   "id": "a1408736",
   "metadata": {},
   "outputs": [
    {
     "name": "stdout",
     "output_type": "stream",
     "text": [
      "(695247, 2378)\n",
      "(171812, 576)\n",
      "(207264, 704)\n",
      "(1117247, 3818)\n"
     ]
    }
   ],
   "source": [
    "for i in range(0, 4):\n",
    "    print(tuple(df_trans[['trans_id', 'account_id']].values.tolist()[i]))"
   ]
  },
  {
   "cell_type": "code",
   "execution_count": null,
   "id": "e18c4352",
   "metadata": {},
   "outputs": [],
   "source": []
  }
 ],
 "metadata": {
  "kernelspec": {
   "display_name": "Python 3",
   "language": "python",
   "name": "python3"
  },
  "language_info": {
   "codemirror_mode": {
    "name": "ipython",
    "version": 3
   },
   "file_extension": ".py",
   "mimetype": "text/x-python",
   "name": "python",
   "nbconvert_exporter": "python",
   "pygments_lexer": "ipython3",
   "version": "3.8.8"
  }
 },
 "nbformat": 4,
 "nbformat_minor": 5
}
